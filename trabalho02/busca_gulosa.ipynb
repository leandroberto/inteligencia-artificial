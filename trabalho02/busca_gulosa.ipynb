{
 "cells": [
  {
   "cell_type": "code",
   "execution_count": 12,
   "metadata": {},
   "outputs": [],
   "source": [
    "from pprint import pprint\n",
    "from copy import deepcopy\n",
    "from termcolor import colored\n",
    "import math"
   ]
  },
  {
   "cell_type": "code",
   "execution_count": 13,
   "metadata": {},
   "outputs": [],
   "source": [
    "labirinto_draw = ''\n",
    "with open('Modelos\\maze01.txt', 'r') as fp:\n",
    "    labirinto_draw = fp.readlines()"
   ]
  },
  {
   "cell_type": "code",
   "execution_count": 14,
   "metadata": {},
   "outputs": [],
   "source": [
    "labirinto = []\n",
    "for linha in labirinto_draw:\n",
    "    aux = []\n",
    "    for coluna in linha:\n",
    "        if coluna == ' ':\n",
    "            aux.append(0)\n",
    "        elif coluna == 'E':\n",
    "            aux.append(1)\n",
    "        elif coluna == 'S':\n",
    "            aux.append(2)\n",
    "        else:\n",
    "            aux.append(9)   \n",
    "    labirinto.append(aux) "
   ]
  },
  {
   "cell_type": "code",
   "execution_count": 22,
   "metadata": {},
   "outputs": [],
   "source": [
    "class Estado:\n",
    "    def __init__(self, posicao=[], custo = 0, acao = None, pai = None):\n",
    "        self.posicao = posicao\n",
    "        self.custo = custo\n",
    "        self.acao = acao\n",
    "        self.pai = pai\n",
    "    def get_custo(self):\n",
    "        return self.custo\n",
    "    def get_fn(self):\n",
    "        return self.fn"
   ]
  },
  {
   "cell_type": "code",
   "execution_count": 23,
   "metadata": {},
   "outputs": [],
   "source": [
    "def Dist_Euclidiana(x1,y1,x2,y2):\n",
    "    return math.sqrt(math.pow((x2-x1),2)+math.pow((y2-y1),2))"
   ]
  },
  {
   "cell_type": "code",
   "execution_count": 24,
   "metadata": {},
   "outputs": [],
   "source": [
    "def Movimentos_BG(posicao_atual,saida,labirinto):\n",
    "    direita=None\n",
    "    esquerda=None\n",
    "    cima=None\n",
    "    baixo=None\n",
    "    lista=[]\n",
    "    \n",
    "    #Direita\n",
    "    if(labirinto[posicao_atual.posicao[0]][posicao_atual.posicao[1]+1]==0):\n",
    "        posicao=[posicao_atual.posicao[0],posicao_atual.posicao[1]+1]\n",
    "        custo=Dist_Euclidiana(posicao[0],posicao[1],saida[0],saida[1])\n",
    "        acao=\"→\"\n",
    "        pai=posicao_atual\n",
    "        direita=Estado(posicao,custo,acao,pai)\n",
    "    #Esquerda\n",
    "    if(posicao_atual.posicao[1]!=0):\n",
    "        if(labirinto[posicao_atual.posicao[0]][posicao_atual.posicao[1]-1]==0):\n",
    "            posicao=[posicao_atual.posicao[0],posicao_atual.posicao[1]-1]\n",
    "            custo=Dist_Euclidiana(posicao[0],posicao[1],saida[0],saida[1])\n",
    "            acao=\"←\"\n",
    "            pai=posicao_atual\n",
    "            esquerda=Estado(posicao,custo,acao,pai)\n",
    "    #Cima\n",
    "    if(labirinto[posicao_atual.posicao[0]-1][posicao_atual.posicao[1]]==0):\n",
    "        posicao=[posicao_atual.posicao[0]-1,posicao_atual.posicao[1]]\n",
    "        custo=Dist_Euclidiana(posicao[0],posicao[1],saida[0],saida[1])\n",
    "        acao=\"↑\"\n",
    "        pai=posicao_atual\n",
    "        cima=Estado(posicao,custo,acao,pai)\n",
    "    #Baixo\n",
    "    if(labirinto[posicao_atual.posicao[0]+1][posicao_atual.posicao[1]]==0):\n",
    "        posicao=[posicao_atual.posicao[0]+1,posicao_atual.posicao[1]]\n",
    "        custo=Dist_Euclidiana(posicao[0],posicao[1],saida[0],saida[1])\n",
    "        acao=\"↓\"\n",
    "        pai=posicao_atual\n",
    "        baixo=Estado(posicao,custo,acao,pai)\n",
    "    #Verificações\n",
    "    if(direita!=None):\n",
    "        lista.append(direita)\n",
    "    if(esquerda!=None):\n",
    "        lista.append(esquerda)\n",
    "    if(cima!=None):\n",
    "        lista.append(cima)\n",
    "    if(baixo!=None):\n",
    "        lista.append(baixo)\n",
    "    lista=sorted(lista,key=Estado.get_custo,reverse=True)    \n",
    "    return [lista.pop()]"
   ]
  },
  {
   "cell_type": "code",
   "execution_count": 25,
   "metadata": {},
   "outputs": [],
   "source": [
    "def imprimir_solucao(estado_atual,historico):\n",
    "    arvore=[]\n",
    "    arvore.append(estado_atual)\n",
    "    historico=sorted(historico,key=Estado.get_custo)\n",
    "    while(estado_atual.pai!=None):\n",
    "        for i in range(len(historico)):\n",
    "            if(historico[i].posicao==estado_atual.pai.posicao or estado_atual.pai.posicao==None):\n",
    "                arvore.insert(0,historico[i])\n",
    "                estado_atual=historico[i]\n",
    "                break\n",
    "    return arvore"
   ]
  },
  {
   "cell_type": "code",
   "execution_count": 26,
   "metadata": {},
   "outputs": [],
   "source": [
    "def imprimir_caminho(posicao_atual,historico,labirinto_draw):\n",
    "    caminho=False\n",
    "    historico=imprimir_solucao(posicao_atual,historico)\n",
    "    for linha in range(len(labirinto_draw)):\n",
    "        for coluna in range(len(labirinto_draw[0])):\n",
    "            if(coluna==len(labirinto_draw[0])):\n",
    "                print(labirinto_draw[linha][coluna])\n",
    "            else:\n",
    "                for i in range(len(historico)):\n",
    "                    if([linha,coluna]==historico[i].posicao):\n",
    "                        caminho=True\n",
    "                        if(historico[i].acao==None):\n",
    "                            print(colored(\"E\", 'red'),end=\"\")\n",
    "                        elif(historico[i].custo==0):\n",
    "                            print(colored(\"S\", 'red'),end=\"\")\n",
    "                        else:\n",
    "                            print(colored(historico[i].acao, 'red'),end=\"\")\n",
    "                        break\n",
    "                if(caminho==False):\n",
    "                    print(labirinto_draw[linha][coluna],end=\"\")\n",
    "                else:\n",
    "                    caminho=False               \n",
    "    \n",
    "    "
   ]
  },
  {
   "cell_type": "code",
   "execution_count": 27,
   "metadata": {},
   "outputs": [],
   "source": [
    "def busca_gulosa(labirinto,labirinto_draw):\n",
    "    entrada=[]\n",
    "    saida=[]\n",
    "    for linha in range(len(labirinto)):\n",
    "        for coluna in range(len(labirinto[0])):\n",
    "            if(labirinto[linha][coluna]==1):\n",
    "                entrada.append(linha)\n",
    "                entrada.append(coluna)\n",
    "            if(labirinto[linha][coluna]==2):\n",
    "                saida.append(linha)\n",
    "                saida.append(coluna)\n",
    "    fronteira=[]\n",
    "    historico=[]\n",
    "    novo_movimento=True\n",
    "    solucao_encontrada=False\n",
    "    solucao=Estado(saida,0)\n",
    "    posicao_atual=Estado(entrada,Dist_Euclidiana(entrada[0],entrada[1],saida[0],saida[1]))\n",
    "    historico.append(posicao_atual)#deletar\n",
    "    while(solucao_encontrada != True):        \n",
    "        movimentos=Movimentos_BG(posicao_atual,saida,labirinto)\n",
    "        for i in range(len(movimentos)):\n",
    "            for j in range(len(historico)):\n",
    "                if(movimentos[i].posicao==historico[j].posicao):\n",
    "                    novo_movimento=False\n",
    "                    break\n",
    "            if(novo_movimento==True):\n",
    "                if(movimentos[i].posicao==solucao.posicao):\n",
    "                    solucao_encontrada=True\n",
    "                    conjunto_solucao=deepcopy(movimentos[i])\n",
    "                    break\n",
    "                fronteira.append(movimentos[i])\n",
    "                historico.append(movimentos[i])\n",
    "            novo_movimento=True\n",
    "        if(solucao_encontrada!=True):\n",
    "            if(fronteira != []):\n",
    "                fronteira=sorted(fronteira,key=Estado.get_custo,reverse=True)\n",
    "                posicao_atual=fronteira.pop()\n",
    "            else:                \n",
    "                imprimir_caminho(posicao_atual,historico,labirinto_draw)\n",
    "                print(colored(\"Sem mais caminhos possiveis!\",'red'))\n",
    "                break\n",
    "        else:\n",
    "            imprimir_caminho(posicao_atual,historico,labirinto_draw)\n",
    "            print(colored(\"Solução Encontrada\",'green'))\n",
    "            "
   ]
  },
  {
   "cell_type": "code",
   "execution_count": 28,
   "metadata": {},
   "outputs": [
    {
     "name": "stdout",
     "output_type": "stream",
     "text": [
      "+--+--+--+--+--+--+--+--+--+--+\n",
      "\u001b[31mE\u001b[0m\u001b[31m→\u001b[0m\u001b[31m→\u001b[0m\u001b[31m→\u001b[0m\u001b[31m→\u001b[0m\u001b[31m→\u001b[0m|           |     |     |\n",
      "+  + \u001b[31m↓\u001b[0m+  +--+--+  +--+  +  +  +\n",
      "|  | \u001b[31m↓\u001b[0m|  |     |  |        |  |\n",
      "+  + \u001b[31m↓\u001b[0m+--+ \u001b[31m↑\u001b[0m+  +  +  +  +--+--+\n",
      "|  | \u001b[31m↓\u001b[0m\u001b[31m→\u001b[0m\u001b[31m→\u001b[0m\u001b[31m→\u001b[0m\u001b[31m→\u001b[0m\u001b[31m→\u001b[0m\u001b[31m→\u001b[0m|        |  |     |\n",
      "+  +--+  +--+--+--+--+  +  +  +\n",
      "|     |  |        |     |  |  |\n",
      "+--+  +  +  +--+  +  +--+  +  +\n",
      "|  |  |     |     |     |  |  |\n",
      "+  +  +--+--+  +--+--+  +--+  +\n",
      "|     |        |     |        |\n",
      "+--+--+  +--+--+  +  +--+  +--+\n",
      "|     |  |     |  |     |     |\n",
      "+--+  +  +--+  +  +--+  +--+--+\n",
      "|     |  |        |  |        |\n",
      "+  +--+  +  +--+--+  +--+--+  +\n",
      "|        |  |        |        |\n",
      "+  +  +--+  +  +--+--+  +--+--+\n",
      "|  |        |                 S\n",
      "+--+--+--+--+--+--+--+--+--+--+\n",
      "\u001b[31mSem mais caminhos possiveis!\u001b[0m\n"
     ]
    }
   ],
   "source": [
    "busca_gulosa(labirinto,labirinto_draw)"
   ]
  },
  {
   "cell_type": "code",
   "execution_count": null,
   "metadata": {},
   "outputs": [],
   "source": []
  }
 ],
 "metadata": {
  "kernelspec": {
   "display_name": "Python 3",
   "language": "python",
   "name": "python3"
  },
  "language_info": {
   "codemirror_mode": {
    "name": "ipython",
    "version": 3
   },
   "file_extension": ".py",
   "mimetype": "text/x-python",
   "name": "python",
   "nbconvert_exporter": "python",
   "pygments_lexer": "ipython3",
   "version": "3.7.6"
  }
 },
 "nbformat": 4,
 "nbformat_minor": 4
}
